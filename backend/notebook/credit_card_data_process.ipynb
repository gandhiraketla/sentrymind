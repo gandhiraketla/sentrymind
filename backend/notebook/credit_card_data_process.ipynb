{
 "cells": [
  {
   "cell_type": "code",
   "execution_count": 1,
   "id": "921de55d-2e89-4c77-8ae4-78ca81783748",
   "metadata": {},
   "outputs": [
    {
     "name": "stdout",
     "output_type": "stream",
     "text": [
      "Requirement already satisfied: pandas in c:\\users\\gandh\\anaconda3\\lib\\site-packages (2.2.2)\n",
      "Requirement already satisfied: numpy in c:\\users\\gandh\\anaconda3\\lib\\site-packages (1.26.4)\n",
      "Requirement already satisfied: python-dateutil>=2.8.2 in c:\\users\\gandh\\anaconda3\\lib\\site-packages (from pandas) (2.8.2)\n",
      "Requirement already satisfied: pytz>=2020.1 in c:\\users\\gandh\\anaconda3\\lib\\site-packages (from pandas) (2024.1)\n",
      "Requirement already satisfied: tzdata>=2022.7 in c:\\users\\gandh\\anaconda3\\lib\\site-packages (from pandas) (2023.3)\n",
      "Requirement already satisfied: six>=1.5 in c:\\users\\gandh\\anaconda3\\lib\\site-packages (from python-dateutil>=2.8.2->pandas) (1.16.0)\n"
     ]
    },
    {
     "name": "stderr",
     "output_type": "stream",
     "text": [
      "WARNING: Ignoring invalid distribution ~nnxruntime (C:\\Users\\gandh\\anaconda3\\Lib\\site-packages)\n",
      "WARNING: Ignoring invalid distribution ~nnxruntime (C:\\Users\\gandh\\anaconda3\\Lib\\site-packages)\n"
     ]
    }
   ],
   "source": [
    "!pip install pandas numpy"
   ]
  },
  {
   "cell_type": "code",
   "execution_count": 3,
   "id": "73c0762c-5c3d-41a7-a6b9-690c2d9a4077",
   "metadata": {},
   "outputs": [],
   "source": [
    "import warnings\n",
    "warnings.filterwarnings('ignore')"
   ]
  },
  {
   "cell_type": "code",
   "execution_count": 5,
   "id": "7e53dbf9-5d7e-41bd-863a-78bd1d2e2c97",
   "metadata": {},
   "outputs": [],
   "source": [
    "import pandas as pd\n",
    "import numpy as np\n"
   ]
  },
  {
   "cell_type": "code",
   "execution_count": 9,
   "id": "4a0b9f51-5d9d-4b15-95df-3981e58c71a7",
   "metadata": {},
   "outputs": [],
   "source": [
    "df = pd.read_csv(\"C:\\\\sentrymind\\\\backend\\\\data\\\\fraudTrain.csv\")\n"
   ]
  },
  {
   "cell_type": "code",
   "execution_count": 11,
   "id": "15ca88de-7722-426b-b44b-f6eaa32c598d",
   "metadata": {},
   "outputs": [
    {
     "name": "stdout",
     "output_type": "stream",
     "text": [
      "<class 'pandas.core.frame.DataFrame'>\n",
      "RangeIndex: 1296675 entries, 0 to 1296674\n",
      "Data columns (total 23 columns):\n",
      " #   Column                 Non-Null Count    Dtype  \n",
      "---  ------                 --------------    -----  \n",
      " 0   Unnamed: 0             1296675 non-null  int64  \n",
      " 1   trans_date_trans_time  1296675 non-null  object \n",
      " 2   cc_num                 1296675 non-null  int64  \n",
      " 3   merchant               1296675 non-null  object \n",
      " 4   category               1296675 non-null  object \n",
      " 5   amt                    1296675 non-null  float64\n",
      " 6   first                  1296675 non-null  object \n",
      " 7   last                   1296675 non-null  object \n",
      " 8   gender                 1296675 non-null  object \n",
      " 9   street                 1296675 non-null  object \n",
      " 10  city                   1296675 non-null  object \n",
      " 11  state                  1296675 non-null  object \n",
      " 12  zip                    1296675 non-null  int64  \n",
      " 13  lat                    1296675 non-null  float64\n",
      " 14  long                   1296675 non-null  float64\n",
      " 15  city_pop               1296675 non-null  int64  \n",
      " 16  job                    1296675 non-null  object \n",
      " 17  dob                    1296675 non-null  object \n",
      " 18  trans_num              1296675 non-null  object \n",
      " 19  unix_time              1296675 non-null  int64  \n",
      " 20  merch_lat              1296675 non-null  float64\n",
      " 21  merch_long             1296675 non-null  float64\n",
      " 22  is_fraud               1296675 non-null  int64  \n",
      "dtypes: float64(5), int64(6), object(12)\n",
      "memory usage: 227.5+ MB\n",
      "None\n"
     ]
    }
   ],
   "source": [
    "print(df.info())"
   ]
  },
  {
   "cell_type": "code",
   "execution_count": 13,
   "id": "fb29e66b-9220-4084-b9bc-08a3e47a8a10",
   "metadata": {},
   "outputs": [
    {
     "name": "stdout",
     "output_type": "stream",
     "text": [
      "   Unnamed: 0 trans_date_trans_time            cc_num  \\\n",
      "0           0   2019-01-01 00:00:18  2703186189652095   \n",
      "1           1   2019-01-01 00:00:44      630423337322   \n",
      "2           2   2019-01-01 00:00:51    38859492057661   \n",
      "3           3   2019-01-01 00:01:16  3534093764340240   \n",
      "4           4   2019-01-01 00:03:06   375534208663984   \n",
      "\n",
      "                             merchant       category     amt      first  \\\n",
      "0          fraud_Rippin, Kub and Mann       misc_net    4.97   Jennifer   \n",
      "1     fraud_Heller, Gutmann and Zieme    grocery_pos  107.23  Stephanie   \n",
      "2                fraud_Lind-Buckridge  entertainment  220.11     Edward   \n",
      "3  fraud_Kutch, Hermiston and Farrell  gas_transport   45.00     Jeremy   \n",
      "4                 fraud_Keeling-Crist       misc_pos   41.96      Tyler   \n",
      "\n",
      "      last gender                        street  ...      lat      long  \\\n",
      "0    Banks      F                561 Perry Cove  ...  36.0788  -81.1781   \n",
      "1     Gill      F  43039 Riley Greens Suite 393  ...  48.8878 -118.2105   \n",
      "2  Sanchez      M      594 White Dale Suite 530  ...  42.1808 -112.2620   \n",
      "3    White      M   9443 Cynthia Court Apt. 038  ...  46.2306 -112.1138   \n",
      "4   Garcia      M              408 Bradley Rest  ...  38.4207  -79.4629   \n",
      "\n",
      "   city_pop                                job         dob  \\\n",
      "0      3495          Psychologist, counselling  1988-03-09   \n",
      "1       149  Special educational needs teacher  1978-06-21   \n",
      "2      4154        Nature conservation officer  1962-01-19   \n",
      "3      1939                    Patent attorney  1967-01-12   \n",
      "4        99     Dance movement psychotherapist  1986-03-28   \n",
      "\n",
      "                          trans_num   unix_time  merch_lat  merch_long  \\\n",
      "0  0b242abb623afc578575680df30655b9  1325376018  36.011293  -82.048315   \n",
      "1  1f76529f8574734946361c461b024d99  1325376044  49.159047 -118.186462   \n",
      "2  a1a22d70485983eac12b5b88dad1cf95  1325376051  43.150704 -112.154481   \n",
      "3  6b849c168bdad6f867558c3793159a81  1325376076  47.034331 -112.561071   \n",
      "4  a41d7549acf90789359a9aa5346dcb46  1325376186  38.674999  -78.632459   \n",
      "\n",
      "   is_fraud  \n",
      "0         0  \n",
      "1         0  \n",
      "2         0  \n",
      "3         0  \n",
      "4         0  \n",
      "\n",
      "[5 rows x 23 columns]\n"
     ]
    }
   ],
   "source": [
    "print(df.head())"
   ]
  },
  {
   "cell_type": "code",
   "execution_count": 15,
   "id": "6b9cb212-b35d-46ee-959d-e342fac5defd",
   "metadata": {},
   "outputs": [],
   "source": [
    "# Handle Missing & Duplicate Values\n",
    "df = df.dropna()  # Drop rows with missing values\n",
    "df = df.drop_duplicates(subset=['trans_num'])  # Ensure unique transaction IDs"
   ]
  },
  {
   "cell_type": "code",
   "execution_count": 17,
   "id": "b5f145b6-7f28-4de1-af39-bc9fe3b95b4b",
   "metadata": {},
   "outputs": [],
   "source": [
    "# Convert Data Types\n",
    "df['trans_date_trans_time'] = pd.to_datetime(df['trans_date_trans_time'])\n",
    "df['is_fraud'] = df['is_fraud'].astype(bool)\n",
    "df['amt'] = df['amt'].astype(float)"
   ]
  },
  {
   "cell_type": "code",
   "execution_count": 19,
   "id": "6a8aee29-abb1-4e8e-98f5-ff56698c9cab",
   "metadata": {},
   "outputs": [],
   "source": [
    "# Standardize Merchant & Location Data\n",
    "df['merchant'] = df['merchant'].str.lower()\n",
    "df[['lat', 'long', 'merch_lat', 'merch_long']] = df[['lat', 'long', 'merch_lat', 'merch_long']].astype(float)"
   ]
  },
  {
   "cell_type": "code",
   "execution_count": 21,
   "id": "26559fc8-e1b9-456d-bbe2-f414cced428b",
   "metadata": {},
   "outputs": [],
   "source": [
    "# Derive Additional Features\n",
    "df['year'] = df['trans_date_trans_time'].dt.year\n",
    "df['month'] = df['trans_date_trans_time'].dt.month\n",
    "df['day'] = df['trans_date_trans_time'].dt.day\n",
    "df['hour'] = df['trans_date_trans_time'].dt.hour"
   ]
  },
  {
   "cell_type": "code",
   "execution_count": 25,
   "id": "5e7c54f3-87ef-4289-9b5a-cd4c23d5d64f",
   "metadata": {},
   "outputs": [],
   "source": [
    "df['trans_date_trans_time'] = pd.to_datetime(df['trans_date_trans_time'])"
   ]
  },
  {
   "cell_type": "code",
   "execution_count": 27,
   "id": "2f175862-6c47-44ba-8bfb-2e92ca5a2d5f",
   "metadata": {},
   "outputs": [],
   "source": [
    "# Sort by customer ID and transaction timestamp\n",
    "df = df.sort_values(by=['cc_num', 'trans_date_trans_time'])"
   ]
  },
  {
   "cell_type": "code",
   "execution_count": 31,
   "id": "43bd08c5-11be-4080-ba95-17a1e092610c",
   "metadata": {},
   "outputs": [],
   "source": [
    "# Function to compute transactions in last 24 hours\n",
    "def count_transactions_last_24h(group):\n",
    "    return group.rolling('1D', on='trans_date_trans_time').count()\n"
   ]
  },
  {
   "cell_type": "code",
   "execution_count": 33,
   "id": "1eb22ebd-be3a-49d2-9c88-cf924faec919",
   "metadata": {},
   "outputs": [],
   "source": [
    "df['transaction_count_24h'] = df.groupby('cc_num', group_keys=False).apply(count_transactions_last_24h)['trans_num']"
   ]
  },
  {
   "cell_type": "code",
   "execution_count": 37,
   "id": "7f89b22a-5757-4163-a0e4-ab14169bd6cd",
   "metadata": {},
   "outputs": [],
   "source": [
    "# Generate a synthetic merchant risk score\n",
    "df['merchant_risk_score'] = np.random.uniform(1, 10, df.shape[0])"
   ]
  },
  {
   "cell_type": "code",
   "execution_count": 39,
   "id": "9c296bcb-d4c1-46f7-8737-a5d0dda8710b",
   "metadata": {},
   "outputs": [],
   "source": [
    "df.to_csv(\"C:\\\\sentrymind\\\\backend\\\\data\\\\fraudDetection_cleaned.csv\", index=False)"
   ]
  },
  {
   "cell_type": "code",
   "execution_count": 42,
   "id": "67fbda29-5408-40b8-97cd-b1b547cc9d63",
   "metadata": {},
   "outputs": [],
   "source": [
    "from sqlalchemy import create_engine"
   ]
  },
  {
   "cell_type": "code",
   "execution_count": 44,
   "id": "73a6ac15-864c-4ba2-affa-cf304b9c3b7d",
   "metadata": {},
   "outputs": [],
   "source": [
    "MYSQL_USER = \"root\"\n",
    "MYSQL_PASSWORD = \"root\"\n",
    "MYSQL_HOST = \"localhost\"  # Change if using a remote server\n",
    "MYSQL_DATABASE = \"sentrymind\""
   ]
  },
  {
   "cell_type": "code",
   "execution_count": 48,
   "id": "4248fadc-c739-408a-8447-abb62ead80b0",
   "metadata": {},
   "outputs": [
    {
     "name": "stdout",
     "output_type": "stream",
     "text": [
      "Collecting pymysql\n",
      "  Downloading PyMySQL-1.1.1-py3-none-any.whl.metadata (4.4 kB)\n",
      "Downloading PyMySQL-1.1.1-py3-none-any.whl (44 kB)\n",
      "   ---------------------------------------- 0.0/45.0 kB ? eta -:--:--\n",
      "   --------- ------------------------------ 10.2/45.0 kB ? eta -:--:--\n",
      "   ------------------ --------------------- 20.5/45.0 kB 217.9 kB/s eta 0:00:01\n",
      "   ---------------------------------------- 45.0/45.0 kB 318.6 kB/s eta 0:00:00\n",
      "Installing collected packages: pymysql\n",
      "Successfully installed pymysql-1.1.1\n"
     ]
    },
    {
     "name": "stderr",
     "output_type": "stream",
     "text": [
      "WARNING: Ignoring invalid distribution ~nnxruntime (C:\\Users\\gandh\\anaconda3\\Lib\\site-packages)\n",
      "WARNING: Ignoring invalid distribution ~nnxruntime (C:\\Users\\gandh\\anaconda3\\Lib\\site-packages)\n"
     ]
    }
   ],
   "source": [
    "!pip install pymysql"
   ]
  },
  {
   "cell_type": "code",
   "execution_count": 50,
   "id": "5ab2e60e-965b-450c-be88-1cf62346c846",
   "metadata": {},
   "outputs": [],
   "source": [
    "engine = create_engine(f\"mysql+pymysql://{MYSQL_USER}:{MYSQL_PASSWORD}@{MYSQL_HOST}/{MYSQL_DATABASE}\")"
   ]
  },
  {
   "cell_type": "code",
   "execution_count": 52,
   "id": "0bab56a1-f8bc-495b-bb87-d6d0af4fcfd3",
   "metadata": {},
   "outputs": [],
   "source": [
    "df = pd.read_csv(\"C:\\\\sentrymind\\\\backend\\\\data\\\\fraudDetection_cleaned.csv\")"
   ]
  },
  {
   "cell_type": "code",
   "execution_count": 54,
   "id": "9277f4d7-2d1f-4d21-81e8-b81b46b17c26",
   "metadata": {},
   "outputs": [
    {
     "data": {
      "text/html": [
       "<div>\n",
       "<style scoped>\n",
       "    .dataframe tbody tr th:only-of-type {\n",
       "        vertical-align: middle;\n",
       "    }\n",
       "\n",
       "    .dataframe tbody tr th {\n",
       "        vertical-align: top;\n",
       "    }\n",
       "\n",
       "    .dataframe thead th {\n",
       "        text-align: right;\n",
       "    }\n",
       "</style>\n",
       "<table border=\"1\" class=\"dataframe\">\n",
       "  <thead>\n",
       "    <tr style=\"text-align: right;\">\n",
       "      <th></th>\n",
       "      <th>Unnamed: 0</th>\n",
       "      <th>trans_date_trans_time</th>\n",
       "      <th>cc_num</th>\n",
       "      <th>merchant</th>\n",
       "      <th>category</th>\n",
       "      <th>amt</th>\n",
       "      <th>first</th>\n",
       "      <th>last</th>\n",
       "      <th>gender</th>\n",
       "      <th>street</th>\n",
       "      <th>...</th>\n",
       "      <th>unix_time</th>\n",
       "      <th>merch_lat</th>\n",
       "      <th>merch_long</th>\n",
       "      <th>is_fraud</th>\n",
       "      <th>year</th>\n",
       "      <th>month</th>\n",
       "      <th>day</th>\n",
       "      <th>hour</th>\n",
       "      <th>transaction_count_24h</th>\n",
       "      <th>merchant_risk_score</th>\n",
       "    </tr>\n",
       "  </thead>\n",
       "  <tbody>\n",
       "    <tr>\n",
       "      <th>0</th>\n",
       "      <td>1017</td>\n",
       "      <td>2019-01-01 12:47:15</td>\n",
       "      <td>60416207185</td>\n",
       "      <td>fraud_jones, sawayn and romaguera</td>\n",
       "      <td>misc_net</td>\n",
       "      <td>7.27</td>\n",
       "      <td>Mary</td>\n",
       "      <td>Diaz</td>\n",
       "      <td>F</td>\n",
       "      <td>9886 Anita Drive</td>\n",
       "      <td>...</td>\n",
       "      <td>1325422035</td>\n",
       "      <td>43.974711</td>\n",
       "      <td>-109.741904</td>\n",
       "      <td>False</td>\n",
       "      <td>2019</td>\n",
       "      <td>1</td>\n",
       "      <td>1</td>\n",
       "      <td>12</td>\n",
       "      <td>1.0</td>\n",
       "      <td>6.973019</td>\n",
       "    </tr>\n",
       "    <tr>\n",
       "      <th>1</th>\n",
       "      <td>2724</td>\n",
       "      <td>2019-01-02 08:44:57</td>\n",
       "      <td>60416207185</td>\n",
       "      <td>fraud_berge llc</td>\n",
       "      <td>gas_transport</td>\n",
       "      <td>52.94</td>\n",
       "      <td>Mary</td>\n",
       "      <td>Diaz</td>\n",
       "      <td>F</td>\n",
       "      <td>9886 Anita Drive</td>\n",
       "      <td>...</td>\n",
       "      <td>1325493897</td>\n",
       "      <td>42.018766</td>\n",
       "      <td>-109.044172</td>\n",
       "      <td>False</td>\n",
       "      <td>2019</td>\n",
       "      <td>1</td>\n",
       "      <td>2</td>\n",
       "      <td>8</td>\n",
       "      <td>2.0</td>\n",
       "      <td>1.123834</td>\n",
       "    </tr>\n",
       "    <tr>\n",
       "      <th>2</th>\n",
       "      <td>2726</td>\n",
       "      <td>2019-01-02 08:47:36</td>\n",
       "      <td>60416207185</td>\n",
       "      <td>fraud_luettgen plc</td>\n",
       "      <td>gas_transport</td>\n",
       "      <td>82.08</td>\n",
       "      <td>Mary</td>\n",
       "      <td>Diaz</td>\n",
       "      <td>F</td>\n",
       "      <td>9886 Anita Drive</td>\n",
       "      <td>...</td>\n",
       "      <td>1325494056</td>\n",
       "      <td>42.961335</td>\n",
       "      <td>-109.157564</td>\n",
       "      <td>False</td>\n",
       "      <td>2019</td>\n",
       "      <td>1</td>\n",
       "      <td>2</td>\n",
       "      <td>8</td>\n",
       "      <td>3.0</td>\n",
       "      <td>5.508184</td>\n",
       "    </tr>\n",
       "    <tr>\n",
       "      <th>3</th>\n",
       "      <td>2882</td>\n",
       "      <td>2019-01-02 12:38:14</td>\n",
       "      <td>60416207185</td>\n",
       "      <td>fraud_daugherty llc</td>\n",
       "      <td>kids_pets</td>\n",
       "      <td>34.79</td>\n",
       "      <td>Mary</td>\n",
       "      <td>Diaz</td>\n",
       "      <td>F</td>\n",
       "      <td>9886 Anita Drive</td>\n",
       "      <td>...</td>\n",
       "      <td>1325507894</td>\n",
       "      <td>42.228227</td>\n",
       "      <td>-108.747683</td>\n",
       "      <td>False</td>\n",
       "      <td>2019</td>\n",
       "      <td>1</td>\n",
       "      <td>2</td>\n",
       "      <td>12</td>\n",
       "      <td>4.0</td>\n",
       "      <td>6.405251</td>\n",
       "    </tr>\n",
       "    <tr>\n",
       "      <th>4</th>\n",
       "      <td>2907</td>\n",
       "      <td>2019-01-02 13:10:46</td>\n",
       "      <td>60416207185</td>\n",
       "      <td>fraud_beier and sons</td>\n",
       "      <td>home</td>\n",
       "      <td>27.18</td>\n",
       "      <td>Mary</td>\n",
       "      <td>Diaz</td>\n",
       "      <td>F</td>\n",
       "      <td>9886 Anita Drive</td>\n",
       "      <td>...</td>\n",
       "      <td>1325509846</td>\n",
       "      <td>43.321745</td>\n",
       "      <td>-108.091143</td>\n",
       "      <td>False</td>\n",
       "      <td>2019</td>\n",
       "      <td>1</td>\n",
       "      <td>2</td>\n",
       "      <td>13</td>\n",
       "      <td>4.0</td>\n",
       "      <td>3.175471</td>\n",
       "    </tr>\n",
       "  </tbody>\n",
       "</table>\n",
       "<p>5 rows × 29 columns</p>\n",
       "</div>"
      ],
      "text/plain": [
       "   Unnamed: 0 trans_date_trans_time       cc_num  \\\n",
       "0        1017   2019-01-01 12:47:15  60416207185   \n",
       "1        2724   2019-01-02 08:44:57  60416207185   \n",
       "2        2726   2019-01-02 08:47:36  60416207185   \n",
       "3        2882   2019-01-02 12:38:14  60416207185   \n",
       "4        2907   2019-01-02 13:10:46  60416207185   \n",
       "\n",
       "                            merchant       category    amt first  last gender  \\\n",
       "0  fraud_jones, sawayn and romaguera       misc_net   7.27  Mary  Diaz      F   \n",
       "1                    fraud_berge llc  gas_transport  52.94  Mary  Diaz      F   \n",
       "2                 fraud_luettgen plc  gas_transport  82.08  Mary  Diaz      F   \n",
       "3                fraud_daugherty llc      kids_pets  34.79  Mary  Diaz      F   \n",
       "4               fraud_beier and sons           home  27.18  Mary  Diaz      F   \n",
       "\n",
       "             street  ...   unix_time  merch_lat  merch_long  is_fraud  year  \\\n",
       "0  9886 Anita Drive  ...  1325422035  43.974711 -109.741904     False  2019   \n",
       "1  9886 Anita Drive  ...  1325493897  42.018766 -109.044172     False  2019   \n",
       "2  9886 Anita Drive  ...  1325494056  42.961335 -109.157564     False  2019   \n",
       "3  9886 Anita Drive  ...  1325507894  42.228227 -108.747683     False  2019   \n",
       "4  9886 Anita Drive  ...  1325509846  43.321745 -108.091143     False  2019   \n",
       "\n",
       "   month day hour transaction_count_24h  merchant_risk_score  \n",
       "0      1   1   12                   1.0             6.973019  \n",
       "1      1   2    8                   2.0             1.123834  \n",
       "2      1   2    8                   3.0             5.508184  \n",
       "3      1   2   12                   4.0             6.405251  \n",
       "4      1   2   13                   4.0             3.175471  \n",
       "\n",
       "[5 rows x 29 columns]"
      ]
     },
     "execution_count": 54,
     "metadata": {},
     "output_type": "execute_result"
    }
   ],
   "source": [
    "df.head()\n"
   ]
  },
  {
   "cell_type": "code",
   "execution_count": 56,
   "id": "fa9474a7-1c61-402c-8b34-4502b21fd037",
   "metadata": {},
   "outputs": [
    {
     "name": "stdout",
     "output_type": "stream",
     "text": [
      "CSV Headers: ['Unnamed: 0', 'trans_date_trans_time', 'cc_num', 'merchant', 'category', 'amt', 'first', 'last', 'gender', 'street', 'city', 'state', 'zip', 'lat', 'long', 'city_pop', 'job', 'dob', 'trans_num', 'unix_time', 'merch_lat', 'merch_long', 'is_fraud', 'year', 'month', 'day', 'hour', 'transaction_count_24h', 'merchant_risk_score']\n"
     ]
    }
   ],
   "source": [
    "print(\"CSV Headers:\", list(df.columns))\n"
   ]
  },
  {
   "cell_type": "code",
   "execution_count": 60,
   "id": "631ecca8-29a5-49a2-89b1-7907c44db7cc",
   "metadata": {},
   "outputs": [],
   "source": [
    "df.drop(columns=['Unnamed: 0', 'year', 'month', 'day', 'hour'], inplace=True)"
   ]
  },
  {
   "cell_type": "code",
   "execution_count": 62,
   "id": "3bf123eb-d2b2-4b40-a3b5-fbf2527c3d74",
   "metadata": {},
   "outputs": [],
   "source": [
    "# Rename columns to match MySQL table\n",
    "df.rename(columns={\n",
    "    \"trans_date_trans_time\": \"trans_date\",\n",
    "    \"amt\": \"amount\",\n",
    "    \"first\": \"first_name\",\n",
    "    \"last\": \"last_name\",\n",
    "    \"zip\": \"zip_code\",\n",
    "    \"lat\": \"latitude\",\n",
    "    \"long\": \"longitude\",\n",
    "    \"city_pop\": \"city_population\",\n",
    "    \"merch_lat\": \"merch_latitude\",\n",
    "    \"merch_long\": \"merch_longitude\"\n",
    "}, inplace=True)"
   ]
  },
  {
   "cell_type": "code",
   "execution_count": 64,
   "id": "2b4bd348-913b-4d49-abc6-3d483eeac333",
   "metadata": {},
   "outputs": [],
   "source": [
    "df.to_csv(\"C:\\\\sentrymind\\\\backend\\\\data\\\\fraudDetection_cleaned.csv\", index=False)\n"
   ]
  },
  {
   "cell_type": "code",
   "execution_count": 66,
   "id": "8a21364f-55fb-4ab2-a477-915c0c628668",
   "metadata": {},
   "outputs": [],
   "source": [
    "df = pd.read_csv(\"C:\\\\sentrymind\\\\backend\\\\data\\\\fraudDetection_cleaned.csv\")"
   ]
  },
  {
   "cell_type": "code",
   "execution_count": 68,
   "id": "1a2e08b2-615a-4f45-aa81-dcc073904b52",
   "metadata": {},
   "outputs": [
    {
     "data": {
      "text/plain": [
       "1296675"
      ]
     },
     "execution_count": 68,
     "metadata": {},
     "output_type": "execute_result"
    }
   ],
   "source": [
    "df.to_sql(name=\"transactions\", con=engine, if_exists=\"append\", index=False)"
   ]
  },
  {
   "cell_type": "code",
   "execution_count": null,
   "id": "5ccc9ca2-9bdc-4570-a43d-001468d59a98",
   "metadata": {},
   "outputs": [],
   "source": []
  }
 ],
 "metadata": {
  "kernelspec": {
   "display_name": "Python 3 (ipykernel)",
   "language": "python",
   "name": "python3"
  },
  "language_info": {
   "codemirror_mode": {
    "name": "ipython",
    "version": 3
   },
   "file_extension": ".py",
   "mimetype": "text/x-python",
   "name": "python",
   "nbconvert_exporter": "python",
   "pygments_lexer": "ipython3",
   "version": "3.12.3"
  }
 },
 "nbformat": 4,
 "nbformat_minor": 5
}
